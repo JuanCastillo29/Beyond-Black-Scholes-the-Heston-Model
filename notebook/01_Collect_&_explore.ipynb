{
 "cells": [
  {
   "cell_type": "markdown",
   "id": "221bfdd2-ee53-4b54-aebf-7a7fe3d48aaa",
   "metadata": {},
   "source": [
    "# 1. Collect and explore the data\n",
    "\n",
    "## Goals\n",
    "\n",
    "This notebook aims to explore, clean, and structure the options data that will be used in the pricing modeling project (Black-Scholes, Heston, etc.).\n",
    "\n",
    "Therefore, this notebook analyzes:\n",
    "- Structure and characteristic of the option market-\n",
    "- Relevant filters to ensure data quality\n",
    "- Calculation of useful features as `mid price`, `spread`, `time to maturity (T)` and `interest free rate`"
   ]
  },
  {
   "cell_type": "code",
   "execution_count": 1,
   "id": "76d6d1c2-e27f-47c7-b1b9-3e96ecdab57a",
   "metadata": {},
   "outputs": [],
   "source": [
    "import pandas as pd\n",
    "import numpy as np\n",
    "import yfinance as yf\n",
    "import matplotlib.pyplot as plt\n",
    "import seaborn as sns\n",
    "from datetime import datetime\n",
    "import os\n",
    "from mpl_toolkits.mplot3d import Axes3D\n",
    "\n",
    "sns.set(style=\"darkgrid\")\n",
    "%matplotlib inline"
   ]
  },
  {
   "cell_type": "markdown",
   "id": "9c9b5420-168a-4034-9a49-be25c0a610f0",
   "metadata": {},
   "source": [
    "## 1.1. Downloading the data.\n",
    "\n",
    "In this notebook section, I will download the data from YahooFinance. The financial asset choose is the `^SPX` ticker. The time to maturity is also computed."
   ]
  },
  {
   "cell_type": "code",
   "execution_count": 2,
   "id": "d43c04d9-15c9-4710-9835-f02c675e2b9c",
   "metadata": {},
   "outputs": [
    {
     "name": "stdout",
     "output_type": "stream",
     "text": [
      "Available expirations from 2025-07-30 to 2030-12-20\n"
     ]
    }
   ],
   "source": [
    "ticker_symbol = \"^SPX\"\n",
    "ticker = yf.Ticker(ticker_symbol)\n",
    "\n",
    "spot_price = ticker.history(period=\"1d\")['Close'].iloc[-1]\n",
    "\n",
    "expirations = ticker.options\n",
    "print(f\"Available expirations from {expirations[0]} to {expirations[len(expirations)-1]}\")"
   ]
  },
  {
   "cell_type": "code",
   "execution_count": 3,
   "id": "8c56d7f4-c195-4d37-b4c4-d603f0e473fe",
   "metadata": {},
   "outputs": [
    {
     "data": {
      "text/html": [
       "<div>\n",
       "<style scoped>\n",
       "    .dataframe tbody tr th:only-of-type {\n",
       "        vertical-align: middle;\n",
       "    }\n",
       "\n",
       "    .dataframe tbody tr th {\n",
       "        vertical-align: top;\n",
       "    }\n",
       "\n",
       "    .dataframe thead th {\n",
       "        text-align: right;\n",
       "    }\n",
       "</style>\n",
       "<table border=\"1\" class=\"dataframe\">\n",
       "  <thead>\n",
       "    <tr style=\"text-align: right;\">\n",
       "      <th></th>\n",
       "      <th>contractSymbol</th>\n",
       "      <th>lastTradeDate</th>\n",
       "      <th>strike</th>\n",
       "      <th>lastPrice</th>\n",
       "      <th>bid</th>\n",
       "      <th>ask</th>\n",
       "      <th>change</th>\n",
       "      <th>percentChange</th>\n",
       "      <th>volume</th>\n",
       "      <th>openInterest</th>\n",
       "      <th>impliedVolatility</th>\n",
       "      <th>inTheMoney</th>\n",
       "      <th>contractSize</th>\n",
       "      <th>currency</th>\n",
       "      <th>Type</th>\n",
       "      <th>T</th>\n",
       "    </tr>\n",
       "  </thead>\n",
       "  <tbody>\n",
       "    <tr>\n",
       "      <th>0</th>\n",
       "      <td>SPXW250731C01400000</td>\n",
       "      <td>2025-07-14 19:24:49+00:00</td>\n",
       "      <td>1400.0</td>\n",
       "      <td>4868.23</td>\n",
       "      <td>4971.1</td>\n",
       "      <td>4990.3</td>\n",
       "      <td>0.0</td>\n",
       "      <td>0.0</td>\n",
       "      <td>2.0</td>\n",
       "      <td>1432.0</td>\n",
       "      <td>8.888188</td>\n",
       "      <td>True</td>\n",
       "      <td>REGULAR</td>\n",
       "      <td>USD</td>\n",
       "      <td>call</td>\n",
       "      <td>0.0</td>\n",
       "    </tr>\n",
       "    <tr>\n",
       "      <th>1</th>\n",
       "      <td>SPXW250731C02600000</td>\n",
       "      <td>2025-07-28 14:14:27+00:00</td>\n",
       "      <td>2600.0</td>\n",
       "      <td>3798.22</td>\n",
       "      <td>3774.5</td>\n",
       "      <td>3792.8</td>\n",
       "      <td>0.0</td>\n",
       "      <td>0.0</td>\n",
       "      <td>1.0</td>\n",
       "      <td>1.0</td>\n",
       "      <td>5.665408</td>\n",
       "      <td>True</td>\n",
       "      <td>REGULAR</td>\n",
       "      <td>USD</td>\n",
       "      <td>call</td>\n",
       "      <td>0.0</td>\n",
       "    </tr>\n",
       "    <tr>\n",
       "      <th>2</th>\n",
       "      <td>SPXW250731C03900000</td>\n",
       "      <td>2025-05-07 18:00:59+00:00</td>\n",
       "      <td>3900.0</td>\n",
       "      <td>1749.80</td>\n",
       "      <td>2108.9</td>\n",
       "      <td>2136.9</td>\n",
       "      <td>0.0</td>\n",
       "      <td>0.0</td>\n",
       "      <td>4.0</td>\n",
       "      <td>4.0</td>\n",
       "      <td>0.000010</td>\n",
       "      <td>True</td>\n",
       "      <td>REGULAR</td>\n",
       "      <td>USD</td>\n",
       "      <td>call</td>\n",
       "      <td>0.0</td>\n",
       "    </tr>\n",
       "    <tr>\n",
       "      <th>3</th>\n",
       "      <td>SPXW250731C04000000</td>\n",
       "      <td>2025-07-10 19:01:07+00:00</td>\n",
       "      <td>4000.0</td>\n",
       "      <td>2292.49</td>\n",
       "      <td>2376.7</td>\n",
       "      <td>2383.4</td>\n",
       "      <td>0.0</td>\n",
       "      <td>0.0</td>\n",
       "      <td>1.0</td>\n",
       "      <td>108.0</td>\n",
       "      <td>2.929446</td>\n",
       "      <td>True</td>\n",
       "      <td>REGULAR</td>\n",
       "      <td>USD</td>\n",
       "      <td>call</td>\n",
       "      <td>0.0</td>\n",
       "    </tr>\n",
       "    <tr>\n",
       "      <th>4</th>\n",
       "      <td>SPXW250731C04050000</td>\n",
       "      <td>2025-06-24 14:21:37+00:00</td>\n",
       "      <td>4050.0</td>\n",
       "      <td>2037.32</td>\n",
       "      <td>2330.3</td>\n",
       "      <td>2354.1</td>\n",
       "      <td>0.0</td>\n",
       "      <td>0.0</td>\n",
       "      <td>6.0</td>\n",
       "      <td>7.0</td>\n",
       "      <td>3.408449</td>\n",
       "      <td>True</td>\n",
       "      <td>REGULAR</td>\n",
       "      <td>USD</td>\n",
       "      <td>call</td>\n",
       "      <td>0.0</td>\n",
       "    </tr>\n",
       "  </tbody>\n",
       "</table>\n",
       "</div>"
      ],
      "text/plain": [
       "        contractSymbol             lastTradeDate  strike  lastPrice     bid  \\\n",
       "0  SPXW250731C01400000 2025-07-14 19:24:49+00:00  1400.0    4868.23  4971.1   \n",
       "1  SPXW250731C02600000 2025-07-28 14:14:27+00:00  2600.0    3798.22  3774.5   \n",
       "2  SPXW250731C03900000 2025-05-07 18:00:59+00:00  3900.0    1749.80  2108.9   \n",
       "3  SPXW250731C04000000 2025-07-10 19:01:07+00:00  4000.0    2292.49  2376.7   \n",
       "4  SPXW250731C04050000 2025-06-24 14:21:37+00:00  4050.0    2037.32  2330.3   \n",
       "\n",
       "      ask  change  percentChange  volume  openInterest  impliedVolatility  \\\n",
       "0  4990.3     0.0            0.0     2.0        1432.0           8.888188   \n",
       "1  3792.8     0.0            0.0     1.0           1.0           5.665408   \n",
       "2  2136.9     0.0            0.0     4.0           4.0           0.000010   \n",
       "3  2383.4     0.0            0.0     1.0         108.0           2.929446   \n",
       "4  2354.1     0.0            0.0     6.0           7.0           3.408449   \n",
       "\n",
       "   inTheMoney contractSize currency  Type    T  \n",
       "0        True      REGULAR      USD  call  0.0  \n",
       "1        True      REGULAR      USD  call  0.0  \n",
       "2        True      REGULAR      USD  call  0.0  \n",
       "3        True      REGULAR      USD  call  0.0  \n",
       "4        True      REGULAR      USD  call  0.0  "
      ]
     },
     "execution_count": 3,
     "metadata": {},
     "output_type": "execute_result"
    }
   ],
   "source": [
    "options_df = []\n",
    "\n",
    "for expiry in expirations[1:]:\n",
    "    try:\n",
    "        option_chain = ticker.option_chain(expiry)\n",
    "        expiry_date = datetime.strptime(expiry, \"%Y-%m-%d\")\n",
    "        T = (expiry_date - datetime.today()).days/365.0\n",
    "        \n",
    "\n",
    "        for df, opt_type in zip([option_chain.calls, option_chain.puts], [\"call\", \"put\"]):\n",
    "            df = df.copy()\n",
    "            df[\"Type\"] = opt_type\n",
    "            df[\"T\"] = T\n",
    "            options_df.append(df)\n",
    "        \n",
    "    except Exception as e:\n",
    "        print(f\"Error with expriry {expiry}: e\")\n",
    "\n",
    "options_df = pd.concat(options_df, ignore_index=True)\n",
    "options_df.head()"
   ]
  },
  {
   "cell_type": "markdown",
   "id": "cc047384-1873-4213-b4f5-e9b51c8cbee6",
   "metadata": {},
   "source": [
    "## 1.2. Data preprocessing\n",
    "\n",
    "In this section, I apply relevant filters to guarantee that: \n",
    "- Options have enough liquidity (`openInterest > X`)\n",
    "- Do not have inconsistencies (`bid > ask`)\n",
    "- Options are **vanilla**\n",
    "\n",
    "The `mid price` y `spread` are also computed for each action. The `interest free rate` is interpolated from USA treasure bill interest."
   ]
  },
  {
   "cell_type": "code",
   "execution_count": 4,
   "id": "19913d4e-4bce-40a6-ba46-3e95d1077d25",
   "metadata": {},
   "outputs": [
    {
     "name": "stdout",
     "output_type": "stream",
     "text": [
      "(7030, 10)\n"
     ]
    }
   ],
   "source": [
    "def filter_options(df, min_open_interest=100):\n",
    "    useful_cols = ['strike', 'bid', 'ask', 'lastPrice', 'openInterest', 'impliedVolatility', 'Type', 'T']\n",
    "    df = df[useful_cols].copy()\n",
    "    df = df[df['openInterest'] > min_open_interest]\n",
    "    df = df[df['bid'] > 0]\n",
    "    df = df[df['ask'] > 0]\n",
    "    df = df[df['bid'] < df['ask']]\n",
    "    df[\"mid\"] = (df[\"bid\"] + df[\"ask\"]) / 2\n",
    "    df[\"spread\"] = df[\"ask\"] - df[\"bid\"]\n",
    "    return df\n",
    "\n",
    "options_df = filter_options(options_df)\n",
    "print(options_df.shape)"
   ]
  },
  {
   "cell_type": "code",
   "execution_count": 5,
   "id": "44c1245b-4a25-48b2-b107-5f37625c23db",
   "metadata": {},
   "outputs": [
    {
     "ename": "NameError",
     "evalue": "name 'options_ds' is not defined",
     "output_type": "error",
     "traceback": [
      "\u001b[1;31m---------------------------------------------------------------------------\u001b[0m",
      "\u001b[1;31mNameError\u001b[0m                                 Traceback (most recent call last)",
      "Cell \u001b[1;32mIn[5], line 9\u001b[0m\n\u001b[0;32m      6\u001b[0m     \u001b[38;5;28;01mreturn\u001b[39;00m np\u001b[38;5;241m.\u001b[39minterp(T, tenors, rates)\n\u001b[0;32m      8\u001b[0m options_df[\u001b[38;5;124m'\u001b[39m\u001b[38;5;124mrisk_free_rate\u001b[39m\u001b[38;5;124m'\u001b[39m] \u001b[38;5;241m=\u001b[39m options_df[\u001b[38;5;124m'\u001b[39m\u001b[38;5;124mT\u001b[39m\u001b[38;5;124m'\u001b[39m]\u001b[38;5;241m.\u001b[39mapply(\u001b[38;5;28;01mlambda\u001b[39;00m T: interp_rate(T, tenors, rates))\n\u001b[1;32m----> 9\u001b[0m \u001b[43moptions_ds\u001b[49m[\u001b[38;5;124m'\u001b[39m\u001b[38;5;124mUnderlying_price\u001b[39m\u001b[38;5;124m'\u001b[39m] \u001b[38;5;241m=\u001b[39m spot_price\n\u001b[0;32m     10\u001b[0m \u001b[38;5;28mprint\u001b[39m(options_df\u001b[38;5;241m.\u001b[39mshape[\u001b[38;5;241m0\u001b[39m])\n\u001b[0;32m     11\u001b[0m options_df\u001b[38;5;241m.\u001b[39mhead()\n",
      "\u001b[1;31mNameError\u001b[0m: name 'options_ds' is not defined"
     ]
    }
   ],
   "source": [
    "#interest free rates 29-july-2025\n",
    "tenors = np.array([0.25, 0.5, 1.0, 2.0, 5.0])\n",
    "rates = np.array([0.0433, 0.0426, 0.0408, 0.0391, 0.0396])\n",
    "\n",
    "def interp_rate(T, tenors, rates):\n",
    "    return np.interp(T, tenors, rates)\n",
    "\n",
    "options_df['risk_free_rate'] = options_df['T'].apply(lambda T: interp_rate(T, tenors, rates))\n",
    "options_df['Underlying_price'] = spot_price\n",
    "print(options_df.shape[0])\n",
    "options_df.head()"
   ]
  },
  {
   "cell_type": "markdown",
   "id": "f779fb27-b75e-4681-ae3d-8ad4c631fff3",
   "metadata": {},
   "source": [
    "## 1.3. Initial visulatization\n",
    "\n",
    "Through a scatter plot, this section allow me to visualize the implied volatility estimated by `YahooFinance`."
   ]
  },
  {
   "cell_type": "code",
   "execution_count": null,
   "id": "e95ef0a8-65a7-487d-88ed-105e1c74c1d1",
   "metadata": {},
   "outputs": [],
   "source": [
    "call_options = options_df[options_df['Type'] == 'call'].copy()\n",
    "\n",
    "fig = plt.figure(figsize=(10, 8))\n",
    "ax = fig.add_subplot(111, projection='3d')\n",
    "\n",
    "sc = ax.scatter(\n",
    "    call_options['T'],                    \n",
    "    call_options['strike'],                \n",
    "    call_options['impliedVolatility'],   \n",
    "    c=call_options['openInterest'],      \n",
    "    cmap='viridis',\n",
    "    marker='o',\n",
    "    alpha=0.8,\n",
    "    vmin=0,     \n",
    "    vmax=1000 \n",
    ")\n",
    "\n",
    "ax.set_xlabel('Time to Maturity (T)')\n",
    "ax.set_ylabel('Strike Price')\n",
    "ax.set_zlabel('Implied Volatility')\n",
    "\n",
    "cbar = plt.colorbar(sc, pad=0.1)\n",
    "cbar.set_label('Open Interest')\n",
    "\n",
    "plt.tight_layout()\n",
    "plt.show()\n"
   ]
  },
  {
   "cell_type": "markdown",
   "id": "1ca57d4b-d900-4a45-abf9-769306438206",
   "metadata": {},
   "source": [
    "## 1.4. Data saving\n",
    "\n",
    "This section saves the data to a `.csv` file in the `Data/` directory."
   ]
  },
  {
   "cell_type": "code",
   "execution_count": null,
   "id": "809d4bb9-29c4-4a38-9d59-cefab690ff0f",
   "metadata": {},
   "outputs": [],
   "source": [
    "output_path = \"../data/options_cleaned.csv\"\n",
    "os.makedirs(os.path.dirname(output_path), exist_ok=True)\n",
    "options_df.to_csv(output_path, index=False)\n",
    "print(f\"Saved cleaned option chain to: {output_path}\")"
   ]
  },
  {
   "cell_type": "markdown",
   "id": "41f10d6d-580b-4352-8f70-60ea343fb65d",
   "metadata": {},
   "source": [
    "# 1.5. Summary\n",
    "\n",
    "- Data collected and stored for multiple S&P500 options.\n",
    "- Initial preprocessing discarding non-relevant data.\n",
    "- Calc useful metrics such as related interest free rate and time to maturity.\n",
    "- Saved to ../data/options_cleaned.csv for further preprocessing.\n",
    "\n",
    "The next step is to apply different models (e.g. Black-Scholes or Heston model) to option pricing and hedge strategies. These will be done in following notebooks."
   ]
  }
 ],
 "metadata": {
  "kernelspec": {
   "display_name": "Python (myenv)",
   "language": "python",
   "name": "myenv"
  },
  "language_info": {
   "codemirror_mode": {
    "name": "ipython",
    "version": 3
   },
   "file_extension": ".py",
   "mimetype": "text/x-python",
   "name": "python",
   "nbconvert_exporter": "python",
   "pygments_lexer": "ipython3",
   "version": "3.9.7"
  }
 },
 "nbformat": 4,
 "nbformat_minor": 5
}
